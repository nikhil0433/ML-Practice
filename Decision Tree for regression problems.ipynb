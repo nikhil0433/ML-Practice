{
 "cells": [
  {
   "cell_type": "code",
   "execution_count": 53,
   "id": "881c38fb",
   "metadata": {},
   "outputs": [],
   "source": [
    "# Decision Tree\n",
    "\n",
    "# Importing the libraries\n",
    "import numpy as np\n",
    "import matplotlib.pyplot as plt\n",
    "import pandas as pd"
   ]
  },
  {
   "cell_type": "code",
   "execution_count": 56,
   "id": "6b84bf02",
   "metadata": {},
   "outputs": [],
   "source": [
    "# Importing the dataset\n",
    "dataset = pd.read_csv('50_Startups.csv')\n",
    "dataset.head()\n",
    "X = dataset.iloc[:, :-1]\n",
    "y = dataset.iloc[:, 4]"
   ]
  },
  {
   "cell_type": "code",
   "execution_count": 57,
   "id": "46c9c46c",
   "metadata": {},
   "outputs": [],
   "source": [
    "#Convert the column into categorical columns\n",
    "## here I have choice to drop one of state or take all of them using dro[_first\n",
    "states=pd.get_dummies(X['State'],drop_first=True)"
   ]
  },
  {
   "cell_type": "code",
   "execution_count": 58,
   "id": "57c8ad0c",
   "metadata": {},
   "outputs": [],
   "source": [
    "# Drop the state coulmn\n",
    "X=X.drop('State',axis=1)"
   ]
  },
  {
   "cell_type": "code",
   "execution_count": 59,
   "id": "a06cdd0e",
   "metadata": {},
   "outputs": [],
   "source": [
    "# concat the dummy variables\n",
    "X=pd.concat([X,states],axis=1)"
   ]
  },
  {
   "cell_type": "code",
   "execution_count": 60,
   "id": "f0b0a087",
   "metadata": {},
   "outputs": [],
   "source": [
    "## Import DecisiontTree Regressor\n",
    "from sklearn.tree import DecisionTreeRegressor\n",
    "## Imprt train_test_split\n",
    "from sklearn.model_selection import train_test_split\n",
    "## Import mean_squared error as MSE\n",
    "from sklearn.metrics import mean_squared_error as MSE\n",
    "# Split data into 80% train and 20 % test\n",
    "X_train , X_test ,y_trsin,y_test = train_test_split(X,y,test_size=0.2,random_state = 3)\n"
   ]
  },
  {
   "cell_type": "code",
   "execution_count": 61,
   "id": "ef16ab01",
   "metadata": {},
   "outputs": [],
   "source": [
    "X_train , X_test ,y_train,y_test = train_test_split(X,y,test_size=0.2,random_state = 3)"
   ]
  },
  {
   "cell_type": "code",
   "execution_count": 62,
   "id": "5685f024",
   "metadata": {},
   "outputs": [],
   "source": [
    "## Initiate a Decision Tree Regressor'dt'\n",
    "dt = DecisionTreeRegressor(max_depth=4,min_samples_leaf = 0.1,random_state=3)"
   ]
  },
  {
   "cell_type": "code",
   "execution_count": 63,
   "id": "63fcfc1b",
   "metadata": {},
   "outputs": [
    {
     "data": {
      "text/plain": [
       "DecisionTreeRegressor(max_depth=4, min_samples_leaf=0.1, random_state=3)"
      ]
     },
     "execution_count": 63,
     "metadata": {},
     "output_type": "execute_result"
    }
   ],
   "source": [
    "## Fit 'dt' to training dataset\n",
    "dt.fit(X_train,y_train)"
   ]
  },
  {
   "cell_type": "code",
   "execution_count": 64,
   "id": "6aaf0135",
   "metadata": {},
   "outputs": [],
   "source": [
    "## Predict test set labels\n",
    "y_pred = dt.predict(X_test)"
   ]
  },
  {
   "cell_type": "code",
   "execution_count": 65,
   "id": "b1f7f4d5",
   "metadata": {},
   "outputs": [],
   "source": [
    "## Compute test-set MSE\n",
    "mse_dt = MSE(y_test,y_pred)"
   ]
  },
  {
   "cell_type": "code",
   "execution_count": 66,
   "id": "eaa27618",
   "metadata": {},
   "outputs": [
    {
     "data": {
      "text/plain": [
       "168068304.6519736"
      ]
     },
     "execution_count": 66,
     "metadata": {},
     "output_type": "execute_result"
    }
   ],
   "source": [
    "mse_dt"
   ]
  },
  {
   "cell_type": "code",
   "execution_count": 67,
   "id": "e91cf2c0",
   "metadata": {},
   "outputs": [
    {
     "data": {
      "text/plain": [
       "12964.11603820228"
      ]
     },
     "execution_count": 67,
     "metadata": {},
     "output_type": "execute_result"
    }
   ],
   "source": [
    "## Compute test-set RMSE\n",
    "rmse_dt = mse_dt**(1/2)\n",
    "## Print rmse_dt\n",
    "rmse_dt"
   ]
  },
  {
   "cell_type": "code",
   "execution_count": 42,
   "id": "29d8fcc2",
   "metadata": {},
   "outputs": [
    {
     "name": "stdout",
     "output_type": "stream",
     "text": [
      "R2: 0.9043599484499424\n"
     ]
    }
   ],
   "source": [
    "from sklearn.metrics import r2_score\n",
    "print(\"R2:\", r2_score(y_test,y_pred))"
   ]
  },
  {
   "cell_type": "code",
   "execution_count": null,
   "id": "dc5ef35c",
   "metadata": {},
   "outputs": [],
   "source": []
  },
  {
   "cell_type": "code",
   "execution_count": null,
   "id": "e41539a9",
   "metadata": {},
   "outputs": [],
   "source": []
  }
 ],
 "metadata": {
  "kernelspec": {
   "display_name": "Python 3",
   "language": "python",
   "name": "python3"
  },
  "language_info": {
   "codemirror_mode": {
    "name": "ipython",
    "version": 3
   },
   "file_extension": ".py",
   "mimetype": "text/x-python",
   "name": "python",
   "nbconvert_exporter": "python",
   "pygments_lexer": "ipython3",
   "version": "3.8.5"
  }
 },
 "nbformat": 4,
 "nbformat_minor": 5
}
